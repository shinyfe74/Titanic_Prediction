{
  "cells": [
    {
      "cell_type": "markdown",
      "metadata": {
        "id": "S9oOeyNgF-o8"
      },
      "source": [
        "## EDA To Prediction (DieTanic)\n",
        ">Sometimes life has a cruel sense of humor, giving you the thing you always wanted at the worst time possible.\n",
        ">>-Lisa Kleypas\n",
        "\n",
        "The sinking of the Titanic is one of the most infamous shipwrecks in history. On April 15, 1912, during her maiden voyage, the Titanic sank after colliding with an iceberg, killing 1502 out of 2224 passengers and crew. That's why the name __DieTanic__. This is a very unforgetable disaster that no one in the world can forget.\n",
        "\n",
        "It took about $7.5 million to build the Titanic and it sunk under the ocean due to collision. The Titanic Dataset is a very good dataset for begineers to start a journey in data science and participate in competitions in Kaggle.\n",
        "\n",
        "The Objective of this notebook is to give __an idea how is the workflow in any predictive modeling problem.__ How do we check features, how do we add new features and some Machine Learning Concepts. I have tried to keep the notebook as basic as possible so that even newbies can understand every phase of it.\n",
        "\n",
        "If You Like the notebook and think that it helped you.PLEASE UPVOTE. It will keep me motivated.\n",
        "\n",
        "### Contents of the Notebook:\n",
        "#### Part1: Exploratory Data Analysis(EDA):\n",
        "1) Analysis of the features.\n",
        "\n",
        "2) Finding any relations or trends considering multiple features.\n",
        "\n",
        "#### Part2: Feature Engineering and Data Cleaning:\n",
        "1) Adding any few features.\n",
        "\n",
        "2) Removing redundant features.\n",
        "\n",
        "3) Converting features into suitable form for modeling.\n",
        "\n",
        "#### Part3: Predictive Modeling\n",
        "1) Running Basic Algorithms.\n",
        "\n",
        "2) Cross Validation.\n",
        "\n",
        "3) Ensembling.\n",
        "\n",
        "4) Important Features Extraction.\n",
        "\n",
        "\n",
        "#### Part1: Exploratory Data Analysis(EDA)"
      ]
    },
    {
      "cell_type": "code",
      "execution_count": null,
      "metadata": {
        "id": "wdfMsB5hF-pA"
      },
      "outputs": [],
      "source": [
        "import numpy as np \n",
        "import pandas as pd\n",
        "import matplotlib.pyplot as plt\n",
        "import seaborn as sns\n",
        "plt.style.use('fivethirtyeight')\n",
        "import warnings\n",
        "warnings.filterwarnings('ignore')\n",
        "%matplotlib inline"
      ]
    },
    {
      "cell_type": "code",
      "execution_count": null,
      "metadata": {
        "id": "rkFXXRvsF-pB"
      },
      "outputs": [],
      "source": []
    }
  ],
  "metadata": {
    "colab": {
      "provenance": []
    },
    "kernelspec": {
      "display_name": "Python 3",
      "language": "python",
      "name": "python3"
    },
    "language_info": {
      "codemirror_mode": {
        "name": "ipython",
        "version": 3
      },
      "file_extension": ".py",
      "mimetype": "text/x-python",
      "name": "python",
      "nbconvert_exporter": "python",
      "pygments_lexer": "ipython3",
      "version": "3.9.18"
    }
  },
  "nbformat": 4,
  "nbformat_minor": 0
}
